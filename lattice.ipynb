{
 "cells": [
  {
   "cell_type": "code",
   "execution_count": 1,
   "metadata": {
    "collapsed": true
   },
   "outputs": [],
   "source": [
    "from mp_api.client import MPRester\n",
    "from pymatgen.symmetry.analyzer import SpacegroupAnalyzer"
   ]
  },
  {
   "cell_type": "code",
   "execution_count": 2,
   "outputs": [
    {
     "data": {
      "text/plain": "Retrieving MaterialsDoc documents:   0%|          | 0/1 [00:00<?, ?it/s]",
      "application/vnd.jupyter.widget-view+json": {
       "version_major": 2,
       "version_minor": 0,
       "model_id": "07563da43dee4305984f0da6fa05581e"
      }
     },
     "metadata": {},
     "output_type": "display_data"
    }
   ],
   "source": [
    "mp_id = \"mp-37906\"\n",
    "api_key = \"U5rwd3sdglPsztvgTrc7TwUsvvfTEfOn\"\n",
    "\n",
    "# Structure from material id\n",
    "with MPRester(api_key) as m:\n",
    "    structure = m.get_structure_by_material_id(mp_id)"
   ],
   "metadata": {
    "collapsed": false
   }
  },
  {
   "cell_type": "code",
   "execution_count": 3,
   "outputs": [],
   "source": [
    "vectors = structure.lattice\n",
    "a, b, c = vectors.abc\n",
    "angle = vectors.angles\n",
    "\n",
    "\n",
    "vectors_r = structure.lattice.reciprocal_lattice\n",
    "a_r, b_r, c_r = vectors_r.abc\n",
    "angle_r = vectors_r.angles"
   ],
   "metadata": {
    "collapsed": false
   }
  },
  {
   "cell_type": "code",
   "execution_count": 4,
   "outputs": [
    {
     "name": "stdout",
     "output_type": "stream",
     "text": [
      "Les vecteurs de base du réseau direct sont donnée par:\n",
      "3.505191 0.000000 0.000000\n",
      "1.752595 3.035584 0.000000\n",
      "1.752595 1.011861 2.861977\n",
      "\n",
      "\n",
      "Leur longueur respective sont (en Å):\n",
      "a = 3.505191\n",
      "b = 3.5051903593215874\n",
      "c = 3.505191045560142\n",
      "\n",
      "Les angles du réseau sont donnés (en °):\n",
      "Alpha = 60\n",
      "Beta  = 60\n",
      "Gamma = 60\n"
     ]
    }
   ],
   "source": [
    "# Réseau direct\n",
    "print(\"Les vecteurs de base du réseau direct sont donnée par:\")\n",
    "print(vectors)\n",
    "print(\"\\n\")\n",
    "\n",
    "print(r\"Leur longueur respective sont (en Å):\")\n",
    "print(f\"a = {a}\")\n",
    "print(f\"b = {b}\")\n",
    "print(f\"c = {c}\\n\")\n",
    "\n",
    "print(\"Les angles du réseau sont donnés (en °):\")\n",
    "print(f\"Alpha = {round(angle[0])}\")\n",
    "print(f\"Beta  = {round(angle[1])}\")\n",
    "print(f\"Gamma = {round(angle[2])}\")"
   ],
   "metadata": {
    "collapsed": false
   }
  },
  {
   "cell_type": "code",
   "execution_count": 5,
   "outputs": [
    {
     "name": "stdout",
     "output_type": "stream",
     "text": [
      "Les vecteurs de base du réseau réciproque sont donnée par:\n",
      "1.792537 -1.034922 -0.731800\n",
      "0.000000 2.069844 -0.731800\n",
      "0.000000 0.000000 2.195400\n",
      "\n",
      "\n",
      "Leur longueur respective sont (en Å):\n",
      "a* = 2.195400617227588\n",
      "b* = 2.195400922971748\n",
      "c* = 2.1954003498908574\n",
      "\n",
      "Les angles du réseau sont donnés (en °):\n",
      "Alpha = 109.471\n",
      "Beta  = 109.471\n",
      "Gamma = 109.471\n"
     ]
    }
   ],
   "source": [
    "# Réseau réciproque\n",
    "print(\"Les vecteurs de base du réseau réciproque sont donnée par:\")\n",
    "print(vectors_r)\n",
    "print(\"\\n\")\n",
    "\n",
    "print(r\"Leur longueur respective sont (en Å):\")\n",
    "print(f\"a* = {a_r}\")\n",
    "print(f\"b* = {b_r}\")\n",
    "print(f\"c* = {c_r}\\n\")\n",
    "\n",
    "print(\"Les angles du réseau sont donnés (en °):\")\n",
    "print(f\"Alpha = {round(angle_r[0] * 1e3) / 1e3}\")\n",
    "print(f\"Beta  = {round(angle_r[1] * 1e3) / 1e3}\")\n",
    "print(f\"Gamma = {round(angle_r[2] * 1e3) / 1e3}\")"
   ],
   "metadata": {
    "collapsed": false
   }
  },
  {
   "cell_type": "code",
   "execution_count": 6,
   "outputs": [
    {
     "name": "stdout",
     "output_type": "stream",
     "text": [
      "Le type de maille est:\n",
      "cubic\n"
     ]
    }
   ],
   "source": [
    "# Type de maille\n",
    "spga = SpacegroupAnalyzer(structure)\n",
    "type = spga.get_lattice_type()\n",
    "\n",
    "print(\"Le type de maille est:\")\n",
    "print(type)"
   ],
   "metadata": {
    "collapsed": false
   }
  },
  {
   "cell_type": "code",
   "execution_count": 7,
   "outputs": [
    {
     "name": "stdout",
     "output_type": "stream",
     "text": [
      "Le système cristallin est:\n",
      "cubic\n"
     ]
    }
   ],
   "source": [
    "# Système cristallin\n",
    "syst = spga.get_crystal_system()\n",
    "\n",
    "print(\"Le système cristallin est:\")\n",
    "print(syst)"
   ],
   "metadata": {
    "collapsed": false
   }
  },
  {
   "cell_type": "code",
   "execution_count": 8,
   "outputs": [
    {
     "name": "stdout",
     "output_type": "stream",
     "text": [
      "Le groupe ponctuel est:\n",
      "-43m\n"
     ]
    }
   ],
   "source": [
    "# Groupe ponctuel\n",
    "point_group = spga.get_point_group_symbol()\n",
    "\n",
    "print(\"Le groupe ponctuel est:\")\n",
    "print(point_group)"
   ],
   "metadata": {
    "collapsed": false
   }
  }
 ],
 "metadata": {
  "kernelspec": {
   "display_name": "Python 3",
   "language": "python",
   "name": "python3"
  },
  "language_info": {
   "codemirror_mode": {
    "name": "ipython",
    "version": 2
   },
   "file_extension": ".py",
   "mimetype": "text/x-python",
   "name": "python",
   "nbconvert_exporter": "python",
   "pygments_lexer": "ipython2",
   "version": "2.7.6"
  }
 },
 "nbformat": 4,
 "nbformat_minor": 0
}
