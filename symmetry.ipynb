{
 "cells": [
  {
   "cell_type": "code",
   "execution_count": 1,
   "metadata": {},
   "outputs": [],
   "source": [
    "from mp_api.client import MPRester\n",
    "from pymatgen.symmetry.analyzer import SpacegroupAnalyzer\n",
    "from jupyter_jsmol.pymatgen import quick_view\n",
    "from pymatgen.core.operations import *"
   ]
  },
  {
   "cell_type": "code",
   "execution_count": 2,
   "metadata": {},
   "outputs": [
    {
     "name": "stderr",
     "output_type": "stream",
     "text": [
      "C:\\Users\\Cyril\\OneDrive - UCL\\Projets_informatiques\\Python\\Tache\\lib\\site-packages\\mp_api\\client\\mprester.py:146: UserWarning: mpcontribs-client not installed. Install the package to query MPContribs data, or construct pourbaix diagrams: 'pip install mpcontribs-client'\n",
      "  warnings.warn(\n"
     ]
    },
    {
     "data": {
      "application/vnd.jupyter.widget-view+json": {
       "model_id": "abb7d147aac7409ca759bcb15599869e",
       "version_major": 2,
       "version_minor": 0
      },
      "text/plain": [
       "Retrieving MaterialsDoc documents:   0%|          | 0/1 [00:00<?, ?it/s]"
      ]
     },
     "metadata": {},
     "output_type": "display_data"
    }
   ],
   "source": [
    "mp_id = \"mp-37906\"\n",
    "api_key = \"U5rwd3sdglPsztvgTrc7TwUsvvfTEfOn\"\n",
    "\n",
    "# Structure from material id\n",
    "with MPRester(api_key) as m:\n",
    "    structure = m.get_structure_by_material_id(mp_id)"
   ]
  },
  {
   "cell_type": "code",
   "execution_count": 3,
   "metadata": {},
   "outputs": [],
   "source": [
    "# Nous travaillons sur la maille conventionelle\n",
    "spga = SpacegroupAnalyzer(structure)\n",
    "structure = spga.get_conventional_standard_structure()\n",
    "spga = SpacegroupAnalyzer(structure)"
   ]
  },
  {
   "cell_type": "code",
   "execution_count": 4,
   "metadata": {},
   "outputs": [],
   "source": [
    "# Liste des opérations de symétrie\n",
    "sym_list = spga.get_space_group_operations()\n",
    "\n",
    "# Atomes choisis\n",
    "atom1 = structure.sites[0]\n",
    "atom2 = structure.sites[5]\n",
    "atom3 = structure.sites[10]\n",
    "\n",
    "# Opérations de symétrie choisies\n",
    "sym1 = sym_list[2]\n",
    "sym2 = sym_list[13]\n",
    "sym3 = sym_list[27]\n",
    "\n",
    "# Application des symétries choisies sur les atomes choisis\n",
    "atom1_sym = sym1.operate(atom1.frac_coords)\n",
    "atom2_sym = sym2.operate(atom2.frac_coords)\n",
    "atom3_sym = sym3.operate(atom3.frac_coords)"
   ]
  },
  {
   "cell_type": "markdown",
   "metadata": {},
   "source": [
    "# Première opération de symétrie\n",
    "Cette opération de symétrie est appliqué à l'atome Li ayant comme coordonées réduites initiales $\\begin{pmatrix}0.25\\\\0.75\\\\0.75\\\\\\end{pmatrix}$\n",
    "Cette symétrie est une simple rotation du second ordre $C_2$ autour de l'axe c définie par la matrice de rotation $\\begin{pmatrix}-1&0&0\\\\\n",
    "0&-1&0\\\\\n",
    "0&0&1\\\\\n",
    "\\end{pmatrix}$.\n",
    "\n",
    "Cette opération ne possède aucune translation\n"
   ]
  },
  {
   "cell_type": "code",
   "execution_count": 5,
   "metadata": {},
   "outputs": [
    {
     "name": "stdout",
     "output_type": "stream",
     "text": [
      "Première opération de symétrie (n°3):\n",
      "-x, -y, z\n",
      "Rot:\n",
      "[[-1.  0.  0.]\n",
      " [ 0. -1.  0.]\n",
      " [ 0.  0.  1.]]\n",
      "tau\n",
      "[0. 0. 0.]\n",
      "\n",
      "\n",
      "Atome de départ: Li en position [0.25 0.75 0.75]\n",
      "Atome après opération de symétrie en position [-0.25 -0.75  0.75]\n"
     ]
    }
   ],
   "source": [
    "print(\"Première opération de symétrie (n°3):\")\n",
    "print(sym1.as_xyz_string())\n",
    "print(sym1)\n",
    "print(\"\\n\")\n",
    "print(f\"Atome de départ: {atom1.specie} en position {atom1.frac_coords}\")\n",
    "print(f\"Atome après opération de symétrie en position {atom1_sym}\")"
   ]
  },
  {
   "cell_type": "code",
   "execution_count": 6,
   "metadata": {},
   "outputs": [
    {
     "data": {
      "application/vnd.jupyter.widget-view+json": {
       "model_id": "2bf3025da37e447399acfa499dcf7e39",
       "version_major": 2,
       "version_minor": 0
      },
      "text/plain": [
       "JsmolView(layout=Layout(align_self='stretch', height='400px'))"
      ]
     },
     "metadata": {},
     "output_type": "display_data"
    }
   ],
   "source": [
    "view = quick_view(structure,supercell=[1,1,1])\n",
    "display(view)\n",
    "view.script('draw symop 3 {atomno = 1}; select atomno=1; label on; color red')"
   ]
  },
  {
   "cell_type": "markdown",
   "metadata": {},
   "source": [
    "# Deuxième opération de symétrie\n",
    "Cette opération de symétrie est appliqué à l'atome Mg ayant comme coordonées réduites initiales $\\begin{pmatrix}0.75\\\\0.25\\\\0.25\\\\\\end{pmatrix}$\n",
    "Cette symétrie est une opération de réflexion m définie par la matrice de rotation $\\begin{pmatrix}0&0&1\\\\\n",
    "0&1&0\\\\\n",
    "1&0&0\\\\\n",
    "\\end{pmatrix}$.\n",
    "\n",
    "Cette opération ne possède aucune translation"
   ]
  },
  {
   "cell_type": "code",
   "execution_count": 7,
   "metadata": {},
   "outputs": [
    {
     "name": "stdout",
     "output_type": "stream",
     "text": [
      "Deuxième opération de symétrie (n°14):\n",
      "z, y, x\n",
      "Rot:\n",
      "[[0. 0. 1.]\n",
      " [0. 1. 0.]\n",
      " [1. 0. 0.]]\n",
      "tau\n",
      "[0. 0. 0.]\n",
      "\n",
      "\n",
      "Atome de départ: Mg en position [0.75 0.25 0.25]\n",
      "Atome après opération de symétrie en position [0.25 0.25 0.75]\n"
     ]
    }
   ],
   "source": [
    "print(\"Deuxième opération de symétrie (n°14):\")\n",
    "print(sym2.as_xyz_string())\n",
    "print(sym2)\n",
    "print(\"\\n\")\n",
    "print(f\"Atome de départ: {atom2.specie} en position {atom2.frac_coords}\")\n",
    "print(f\"Atome après opération de symétrie en position {atom2_sym}\")"
   ]
  },
  {
   "cell_type": "code",
   "execution_count": 8,
   "metadata": {},
   "outputs": [
    {
     "data": {
      "application/vnd.jupyter.widget-view+json": {
       "model_id": "337241b2f5d6459da8bf5782b06c92fe",
       "version_major": 2,
       "version_minor": 0
      },
      "text/plain": [
       "JsmolView(layout=Layout(align_self='stretch', height='400px'))"
      ]
     },
     "metadata": {},
     "output_type": "display_data"
    }
   ],
   "source": [
    "view = quick_view(structure,supercell=[1,1,1])\n",
    "display(view)\n",
    "view.script('draw symop 14 {atomno = 11}; select atomno=11; label on; color red')"
   ]
  },
  {
   "cell_type": "markdown",
   "metadata": {},
   "source": [
    "# Troisième opération de symétrie\n",
    "Cette opération de symétrie est appliqué à l'atome N ayant comme coordonées réduites initiales $\\begin{pmatrix}0.5\\\\0\\\\0.5\\\\\\end{pmatrix}$\n",
    "Cette symétrie est ___ définie par la matrice de rotation $\\begin{pmatrix}0&-1&0\\\\\n",
    "1&0&0\\\\\n",
    "0&0&1\\\\\n",
    "\\end{pmatrix}$\n",
    "\n",
    "suivie d'une translation définie par le vecteur $(0.5,0.5,0)$"
   ]
  },
  {
   "cell_type": "code",
   "execution_count": 9,
   "metadata": {},
   "outputs": [
    {
     "name": "stdout",
     "output_type": "stream",
     "text": [
      "Troisième opération de symétrie (n°28):\n",
      "-y+1/2, x+1/2, -z\n",
      "Rot:\n",
      "[[ 0. -1.  0.]\n",
      " [ 1.  0.  0.]\n",
      " [ 0.  0. -1.]]\n",
      "tau\n",
      "[0.5 0.5 0. ]\n",
      "\n",
      "\n",
      "Atome de départ: N en position [0.5 0.  0.5]\n",
      "Atome après opération de symétrie en position [ 0.5  1.  -0.5]\n"
     ]
    }
   ],
   "source": [
    "print(\"Troisième opération de symétrie (n°28):\")\n",
    "print(sym3.as_xyz_string())\n",
    "print(sym3)\n",
    "print(\"\\n\")\n",
    "print(f\"Atome de départ: {atom3.specie} en position {atom3.frac_coords}\")\n",
    "print(f\"Atome après opération de symétrie en position {atom3_sym}\")"
   ]
  },
  {
   "cell_type": "code",
   "execution_count": 10,
   "metadata": {},
   "outputs": [
    {
     "data": {
      "application/vnd.jupyter.widget-view+json": {
       "model_id": "c195cfb7354e424d84d18e418e658633",
       "version_major": 2,
       "version_minor": 0
      },
      "text/plain": [
       "JsmolView(layout=Layout(align_self='stretch', height='400px'))"
      ]
     },
     "metadata": {},
     "output_type": "display_data"
    }
   ],
   "source": [
    "view = quick_view(structure,supercell=[1,1,1])\n",
    "display(view)\n",
    "view.script('draw symop 28 {atomno = 13}; select atomno=13; label on; color red')"
   ]
  },
  {
   "cell_type": "code",
   "execution_count": null,
   "metadata": {},
   "outputs": [],
   "source": []
  }
 ],
 "metadata": {
  "kernelspec": {
   "display_name": "Python 3 (ipykernel)",
   "language": "python",
   "name": "python3"
  },
  "language_info": {
   "codemirror_mode": {
    "name": "ipython",
    "version": 3
   },
   "file_extension": ".py",
   "mimetype": "text/x-python",
   "name": "python",
   "nbconvert_exporter": "python",
   "pygments_lexer": "ipython3",
   "version": "3.9.10"
  }
 },
 "nbformat": 4,
 "nbformat_minor": 1
}
